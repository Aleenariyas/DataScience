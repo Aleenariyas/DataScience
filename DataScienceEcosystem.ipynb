{
 "cells": [
  {
   "cell_type": "markdown",
   "id": "b70a248e-b356-46e4-bbf7-9cd6137f674a",
   "metadata": {},
   "source": [
    "# Data Science Tools and Ecosystem"
   ]
  },
  {
   "cell_type": "markdown",
   "id": "0cbe24ba-5f65-4527-a9e6-6b1c6ecb097c",
   "metadata": {},
   "source": [
    "## In this notebook, Data Science Tools and Ecosystems are summarized.\n"
   ]
  },
  {
   "cell_type": "markdown",
   "id": "7be6cd6a-4c2d-48be-b81b-e5b03c0e2222",
   "metadata": {},
   "source": [
    "**Objectives:**\n",
    "- Python\n",
    "- R\n",
    "- JavaScript"
   ]
  },
  {
   "cell_type": "markdown",
   "id": "d6e92c58-830e-4b7b-b1ae-36a04f6827ed",
   "metadata": {},
   "source": [
    "### Some of the popular languages that Data Scientist use are:\n",
    "1. Python   \n",
    "2. R   \n",
    "3. SQL   \n",
    "4. JavaScript  "
   ]
  },
  {
   "cell_type": "markdown",
   "id": "8d769092-0b6d-4130-8ae2-8ab653bae163",
   "metadata": {},
   "source": [
    "### Some of the commonly used libraries used by Data Scientists include:\n",
    "1. PANDAS   \n",
    "2. TENSORFLOW\n",
    "3. NUMPY\n",
    "\n"
   ]
  },
  {
   "cell_type": "markdown",
   "id": "d5702939-212e-4c17-a5a0-c3847f682ac5",
   "metadata": {},
   "source": [
    "| DATA SCIENCE TOOLS |\n",
    "-----------------------\n",
    "|     MY SQL  |      \n",
    "|   POSTGRE SQL  |         \n",
    "|    MONGODB   |\n"
   ]
  },
  {
   "cell_type": "markdown",
   "id": "445c3e89-4f9b-4e01-9087-b61f467e7aa1",
   "metadata": {},
   "source": [
    "### Below are a few examples of evaluating arithmetic expressions in python\n"
   ]
  },
  {
   "cell_type": "code",
   "execution_count": 26,
   "id": "0353f3dc-bad3-4734-a6a7-e2f0996c7f00",
   "metadata": {},
   "outputs": [
    {
     "name": "stdout",
     "output_type": "stream",
     "text": [
      "17\n"
     ]
    }
   ],
   "source": [
    "#This is a simple arithmetic expression to multiply then add integers.\n",
    "print((3*4)+5)"
   ]
  },
  {
   "cell_type": "code",
   "execution_count": 28,
   "id": "49a634bb-8bb9-44d2-9850-c550f8f2a553",
   "metadata": {},
   "outputs": [
    {
     "name": "stdout",
     "output_type": "stream",
     "text": [
      "3.3333333333333335\n"
     ]
    }
   ],
   "source": [
    "#This will convert 200 minutes to hours by dividing by 60\n",
    "print(200/60)\n"
   ]
  },
  {
   "cell_type": "markdown",
   "id": "d8cebabf-b9f3-4406-b7ce-06f866a69e18",
   "metadata": {},
   "source": [
    "## AUTHOR \n",
    "   ALEENA RIYAS"
   ]
  },
  {
   "cell_type": "code",
   "execution_count": null,
   "id": "6d0ff9a1-f075-4699-a101-733ee3eec808",
   "metadata": {},
   "outputs": [],
   "source": []
  }
 ],
 "metadata": {
  "kernelspec": {
   "display_name": "Python 3 (ipykernel)",
   "language": "python",
   "name": "python3"
  },
  "language_info": {
   "codemirror_mode": {
    "name": "ipython",
    "version": 3
   },
   "file_extension": ".py",
   "mimetype": "text/x-python",
   "name": "python",
   "nbconvert_exporter": "python",
   "pygments_lexer": "ipython3",
   "version": "3.12.7"
  }
 },
 "nbformat": 4,
 "nbformat_minor": 5
}
